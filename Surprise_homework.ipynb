{
 "cells": [
  {
   "cell_type": "markdown",
   "metadata": {},
   "source": [
    "# Surprise homework"
   ]
  },
  {
   "cell_type": "code",
   "execution_count": 1,
   "metadata": {},
   "outputs": [],
   "source": [
    "import io \n",
    "from collections import defaultdict\n",
    "from surprise import SVD\n",
    "from surprise import Dataset\n",
    "from surprise import KNNWithMeans\n",
    "from surprise import NormalPredictor\n",
    "from surprise.model_selection import cross_validate\n",
    "from surprise.model_selection import KFold\n",
    "\n",
    "\n",
    "# Load the movielens-100k dataset (download it if needed),\n",
    "data = Dataset.load_builtin('ml-100k')"
   ]
  },
  {
   "cell_type": "markdown",
   "source": [
    "### Random rating based on the distribution"
   ],
   "metadata": {
    "collapsed": false
   }
  },
  {
   "cell_type": "code",
   "execution_count": 2,
   "outputs": [
    {
     "name": "stdout",
     "output_type": "stream",
     "text": [
      "Evaluating RMSE of algorithm NormalPredictor on 5 split(s).\n",
      "\n",
      "                  Fold 1  Fold 2  Fold 3  Fold 4  Fold 5  Mean    Std     \n",
      "RMSE (testset)    1.5256  1.5182  1.5268  1.5189  1.5198  1.5219  0.0036  \n",
      "Fit time          0.11    0.12    0.11    0.11    0.11    0.11    0.00    \n",
      "Test time         0.15    0.14    0.12    0.14    0.12    0.13    0.01    \n"
     ]
    },
    {
     "data": {
      "text/plain": "{'test_rmse': array([1.52556165, 1.51817622, 1.52679871, 1.51894887, 1.51982589]),\n 'fit_time': (0.10501480102539062,\n  0.11699795722961426,\n  0.10971617698669434,\n  0.1050102710723877,\n  0.10700178146362305),\n 'test_time': (0.14700961112976074,\n  0.14301013946533203,\n  0.11799931526184082,\n  0.14199090003967285,\n  0.11699914932250977)}"
     },
     "execution_count": 2,
     "metadata": {},
     "output_type": "execute_result"
    }
   ],
   "source": [
    "algo = NormalPredictor()\n",
    "\n",
    "cross_validate(algo, data, measures=['RMSE'], cv=5, verbose=True)"
   ],
   "metadata": {
    "collapsed": false,
    "pycharm": {
     "name": "#%%\n"
    }
   }
  },
  {
   "cell_type": "markdown",
   "metadata": {},
   "source": [
    "### kNN cosine"
   ]
  },
  {
   "cell_type": "code",
   "execution_count": 2,
   "metadata": {},
   "outputs": [
    {
     "name": "stdout",
     "output_type": "stream",
     "text": [
      "Computing the cosine similarity matrix...\n",
      "Done computing similarity matrix.\n",
      "Computing the cosine similarity matrix...\n",
      "Done computing similarity matrix.\n",
      "Computing the cosine similarity matrix...\n",
      "Done computing similarity matrix.\n",
      "Computing the cosine similarity matrix...\n",
      "Done computing similarity matrix.\n",
      "Computing the cosine similarity matrix...\n",
      "Done computing similarity matrix.\n",
      "Evaluating RMSE of algorithm KNNWithMeans on 5 split(s).\n",
      "\n",
      "                  Fold 1  Fold 2  Fold 3  Fold 4  Fold 5  Mean    Std     \n",
      "RMSE (testset)    0.9548  0.9631  0.9579  0.9536  0.9589  0.9576  0.0033  \n",
      "Fit time          1.11    1.10    1.14    1.13    1.11    1.12    0.02    \n",
      "Test time         2.99    2.89    2.99    3.02    2.93    2.97    0.05    \n"
     ]
    },
    {
     "data": {
      "text/plain": [
       "{'test_rmse': array([0.95478992, 0.96306654, 0.95791151, 0.95358631, 0.95888732]),\n",
       " 'fit_time': (1.1147124767303467,\n",
       "  1.096956729888916,\n",
       "  1.1410245895385742,\n",
       "  1.1270356178283691,\n",
       "  1.1087439060211182),\n",
       " 'test_time': (2.989851951599121,\n",
       "  2.8927998542785645,\n",
       "  2.987941026687622,\n",
       "  3.0240976810455322,\n",
       "  2.9346120357513428)}"
      ]
     },
     "execution_count": 2,
     "metadata": {},
     "output_type": "execute_result"
    }
   ],
   "source": [
    "algo = KNNWithMeans(k = 30, sim_options={'name': 'cosine'})\n",
    "\n",
    "cross_validate(algo, data, measures=['RMSE'], cv=5, verbose=True)"
   ]
  },
  {
   "cell_type": "markdown",
   "metadata": {},
   "source": [
    "### kNN Mean Squared Difference"
   ]
  },
  {
   "cell_type": "code",
   "execution_count": 3,
   "metadata": {},
   "outputs": [
    {
     "name": "stdout",
     "output_type": "stream",
     "text": [
      "Computing the msd similarity matrix...\n",
      "Done computing similarity matrix.\n",
      "Computing the msd similarity matrix...\n",
      "Done computing similarity matrix.\n",
      "Computing the msd similarity matrix...\n",
      "Done computing similarity matrix.\n",
      "Computing the msd similarity matrix...\n",
      "Done computing similarity matrix.\n",
      "Computing the msd similarity matrix...\n",
      "Done computing similarity matrix.\n",
      "Evaluating RMSE of algorithm KNNWithMeans on 5 split(s).\n",
      "\n",
      "                  Fold 1  Fold 2  Fold 3  Fold 4  Fold 5  Mean    Std     \n",
      "RMSE (testset)    0.9456  0.9487  0.9632  0.9570  0.9486  0.9526  0.0065  \n",
      "Fit time          0.36    0.39    0.40    0.38    0.42    0.39    0.02    \n",
      "Test time         2.90    2.92    3.09    3.03    3.03    3.00    0.07    \n"
     ]
    },
    {
     "data": {
      "text/plain": [
       "{'test_rmse': array([0.94564724, 0.94866541, 0.96321099, 0.95699426, 0.94863049]),\n",
       " 'fit_time': (0.36035943031311035,\n",
       "  0.39039111137390137,\n",
       "  0.40249085426330566,\n",
       "  0.37520742416381836,\n",
       "  0.41635918617248535),\n",
       " 'test_time': (2.9045543670654297,\n",
       "  2.916067600250244,\n",
       "  3.094116449356079,\n",
       "  3.033421277999878,\n",
       "  3.0278284549713135)}"
      ]
     },
     "execution_count": 3,
     "metadata": {},
     "output_type": "execute_result"
    }
   ],
   "source": [
    "algo = KNNWithMeans(k = 30, sim_options={'name': 'msd'})\n",
    "\n",
    "cross_validate(algo, data, measures=['RMSE'], cv=5, verbose=True)"
   ]
  },
  {
   "cell_type": "markdown",
   "metadata": {},
   "source": [
    "### kNN Pearson"
   ]
  },
  {
   "cell_type": "code",
   "execution_count": 7,
   "metadata": {},
   "outputs": [
    {
     "name": "stdout",
     "output_type": "stream",
     "text": [
      "Computing the pearson similarity matrix...\n",
      "Done computing similarity matrix.\n",
      "Computing the pearson similarity matrix...\n",
      "Done computing similarity matrix.\n",
      "Computing the pearson similarity matrix...\n",
      "Done computing similarity matrix.\n",
      "Computing the pearson similarity matrix...\n",
      "Done computing similarity matrix.\n",
      "Computing the pearson similarity matrix...\n",
      "Done computing similarity matrix.\n",
      "Evaluating RMSE of algorithm KNNWithMeans on 5 split(s).\n",
      "\n",
      "                  Fold 1  Fold 2  Fold 3  Fold 4  Fold 5  Mean    Std     \n",
      "RMSE (testset)    0.9558  0.9510  0.9417  0.9597  0.9491  0.9514  0.0061  \n",
      "Fit time          1.72    1.69    1.68    1.70    1.71    1.70    0.02    \n",
      "Test time         2.90    2.85    2.85    2.85    2.84    2.86    0.02    \n"
     ]
    },
    {
     "data": {
      "text/plain": [
       "{'test_rmse': array([0.95579258, 0.95096588, 0.94165036, 0.95966806, 0.94912391]),\n",
       " 'fit_time': (1.7241809368133545,\n",
       "  1.6895201206207275,\n",
       "  1.6804122924804688,\n",
       "  1.6954843997955322,\n",
       "  1.7080466747283936),\n",
       " 'test_time': (2.8960447311401367,\n",
       "  2.847867965698242,\n",
       "  2.850508213043213,\n",
       "  2.845533609390259,\n",
       "  2.8444128036499023)}"
      ]
     },
     "execution_count": 7,
     "metadata": {},
     "output_type": "execute_result"
    }
   ],
   "source": [
    "algo = KNNWithMeans(k = 30, sim_options={'name': 'pearson'})\n",
    "\n",
    "cross_validate(algo, data, measures=['RMSE'], cv=5, verbose=True)"
   ]
  },
  {
   "cell_type": "markdown",
   "metadata": {},
   "source": [
    "### SVD"
   ]
  },
  {
   "cell_type": "code",
   "execution_count": 4,
   "metadata": {},
   "outputs": [
    {
     "name": "stdout",
     "output_type": "stream",
     "text": [
      "Evaluating RMSE of algorithm SVD on 5 split(s).\n",
      "\n",
      "                  Fold 1  Fold 2  Fold 3  Fold 4  Fold 5  Mean    Std     \n",
      "RMSE (testset)    0.9327  0.9415  0.9332  0.9358  0.9330  0.9353  0.0033  \n",
      "Fit time          4.44    4.42    4.46    4.33    4.30    4.39    0.06    \n",
      "Test time         0.21    0.22    0.21    0.21    0.21    0.21    0.01    \n"
     ]
    },
    {
     "data": {
      "text/plain": [
       "{'test_rmse': array([0.93273199, 0.9415351 , 0.93323855, 0.93582801, 0.93304719]),\n",
       " 'fit_time': (4.435457229614258,\n",
       "  4.4216649532318115,\n",
       "  4.460864782333374,\n",
       "  4.331974983215332,\n",
       "  4.300166130065918),\n",
       " 'test_time': (0.21245241165161133,\n",
       "  0.22458672523498535,\n",
       "  0.2097916603088379,\n",
       "  0.2102823257446289,\n",
       "  0.21224093437194824)}"
      ]
     },
     "execution_count": 4,
     "metadata": {},
     "output_type": "execute_result"
    }
   ],
   "source": [
    "algo = SVD()\n",
    "\n",
    "cross_validate(algo, data, measures=['RMSE'], cv=5, verbose=True)"
   ]
  },
  {
   "cell_type": "markdown",
   "metadata": {},
   "source": [
    "### Calculate precision@k and recall@k"
   ]
  },
  {
   "cell_type": "code",
   "execution_count": 5,
   "metadata": {},
   "outputs": [
    {
     "name": "stdout",
     "output_type": "stream",
     "text": [
      "0.7207183297947626\n",
      "0.4021565231787286\n",
      "0.7318809776833163\n",
      "0.39826135156900105\n",
      "0.7188229056203612\n",
      "0.4151785606785739\n",
      "0.7294013460857248\n",
      "0.41286900249668024\n",
      "0.72310003534818\n",
      "0.4051037952957759\n"
     ]
    }
   ],
   "source": [
    "def precision_recall_at_k(predictions, k=10, threshold=3.5):\n",
    "    \"\"\"Return precision and recall at k metrics for each user\"\"\"\n",
    "\n",
    "    # First map the predictions to each user.\n",
    "    user_est_true = defaultdict(list)\n",
    "    for uid, _, true_r, est, _ in predictions:\n",
    "        user_est_true[uid].append((est, true_r))\n",
    "\n",
    "    precisions = dict()\n",
    "    recalls = dict()\n",
    "    for uid, user_ratings in user_est_true.items():\n",
    "\n",
    "        # Sort user ratings by estimated value\n",
    "        user_ratings.sort(key=lambda x: x[0], reverse=True)\n",
    "\n",
    "        # Number of relevant items\n",
    "        n_rel = sum((true_r >= threshold) for (_, true_r) in user_ratings)\n",
    "\n",
    "        # Number of recommended items in top k\n",
    "        n_rec_k = sum((est >= threshold) for (est, _) in user_ratings[:k])\n",
    "\n",
    "        # Number of relevant and recommended items in top k\n",
    "        n_rel_and_rec_k = sum(((true_r >= threshold) and (est >= threshold))\n",
    "                              for (est, true_r) in user_ratings[:k])\n",
    "\n",
    "        # Precision@K: Proportion of recommended items that are relevant\n",
    "        # When n_rec_k is 0, Precision is undefined. We here set it to 0.\n",
    "\n",
    "        precisions[uid] = n_rel_and_rec_k / n_rec_k if n_rec_k != 0 else 0\n",
    "\n",
    "        # Recall@K: Proportion of relevant items that are recommended\n",
    "        # When n_rel is 0, Recall is undefined. We here set it to 0.\n",
    "\n",
    "        recalls[uid] = n_rel_and_rec_k / n_rel if n_rel != 0 else 0\n",
    "\n",
    "    return precisions, recalls\n",
    "\n",
    "algo = SVD()\n",
    "kf = KFold(n_splits=5)\n",
    "\n",
    "for trainset, testset in kf.split(data):\n",
    "    algo.fit(trainset)\n",
    "    predictions = algo.test(testset)\n",
    "    precisions, recalls = precision_recall_at_k(predictions, k=5, threshold=3.52)\n",
    "\n",
    "    # Precision and recall can then be averaged over all users\n",
    "    print(sum(prec for prec in precisions.values()) / len(precisions))\n",
    "    print(sum(rec for rec in recalls.values()) / len(recalls))\n"
   ]
  },
  {
   "cell_type": "markdown",
   "metadata": {},
   "source": [
    "### Predict"
   ]
  },
  {
   "cell_type": "code",
   "execution_count": 2,
   "metadata": {},
   "outputs": [],
   "source": [
    "n = 5\n",
    "trainset = data.build_full_trainset()\n",
    "algo = SVD()\n",
    "algo.fit(trainset)\n",
    "\n",
    "testset = trainset.build_anti_testset()\n",
    "predictions = algo.test(testset)\n",
    "\n",
    "top_n = defaultdict(list)\n",
    "for uid, iid, true_r, est, _ in predictions:\n",
    "    top_n[uid].append((iid, est))\n",
    "\n",
    "for uid, user_ratings in top_n.items():\n",
    "        user_ratings.sort(key=lambda x: x[1], reverse=True)\n",
    "        top_n[uid] = user_ratings[:n]\n"
   ]
  },
  {
   "cell_type": "code",
   "execution_count": 21,
   "outputs": [
    {
     "name": "stdout",
     "output_type": "stream",
     "text": [
      "User 28\n",
      "169    (Wrong Trousers, The (1993)                         01-Jan-1993) 4.569     \n",
      "64     (Shawshank Redemption, The (1994)                   01-Jan-1994) 4.567     \n",
      "172    (Empire Strikes Back, The (1980)                    01-Jan-1980) 4.517     \n",
      "318    (Schindler's List (1993)                            01-Jan-1993) 4.496     \n",
      "191    (Amadeus (1984)                                     01-Jan-1984) 4.470     \n"
     ]
    }
   ],
   "source": [
    "import os\n",
    "import pandas as pd\n",
    "file_path = os.path.expanduser('~/.surprise_data/ml-100k/ml-100k/u.item')\n",
    "films = pd.read_csv(file_path, sep=\"|\", encoding='ansi', usecols=[0,1,2], names=['id','name', 'date'])\n",
    "print(\"User 28\")\n",
    "for id, score in top_n['28']:\n",
    "    name = films.at[int(id) - 1, 'name']\n",
    "    date = films.at[int(id) - 1, 'date']\n",
    "    print(\"{:<6} ({:<50} {:<11}) {:<10.3f}\".format(id, name, date, score))"
   ],
   "metadata": {
    "collapsed": false,
    "pycharm": {
     "name": "#%%\n"
    }
   }
  }
 ],
 "metadata": {
  "kernelspec": {
   "display_name": "Python 3",
   "language": "python",
   "name": "python3"
  },
  "language_info": {
   "codemirror_mode": {
    "name": "ipython",
    "version": 3
   },
   "file_extension": ".py",
   "mimetype": "text/x-python",
   "name": "python",
   "nbconvert_exporter": "python",
   "pygments_lexer": "ipython3",
   "version": "3.8.6"
  }
 },
 "nbformat": 4,
 "nbformat_minor": 2
}